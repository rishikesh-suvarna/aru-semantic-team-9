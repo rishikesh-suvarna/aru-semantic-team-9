{
 "cells": [
  {
   "cell_type": "code",
   "execution_count": 1,
   "id": "be49711c",
   "metadata": {},
   "outputs": [],
   "source": [
    "from SPARQLWrapper import SPARQLWrapper2"
   ]
  },
  {
   "cell_type": "code",
   "execution_count": 3,
   "id": "03a376b3",
   "metadata": {},
   "outputs": [],
   "source": [
    "sparql = SPARQLWrapper2('http://localhost:3030/social-media-x/query')"
   ]
  },
  {
   "cell_type": "code",
   "execution_count": 17,
   "id": "8ba882be",
   "metadata": {},
   "outputs": [
    {
     "name": "stdout",
     "output_type": "stream",
     "text": [
      "Rishi Suvarna posted: http://www.social-media-x.com/ontologies#TestTweetByRishi\n",
      "Somya Anchlia posted: http://www.social-media-x.com/ontologies#TestTweetBySomya\n"
     ]
    }
   ],
   "source": [
    "sparql.setQuery(\n",
    "    \"\"\"\n",
    "        PREFIX social: <http://www.social-media-x.com/ontologies#>\n",
    "        PREFIX owl: <http://www.w3.org/2002/07/owl#>\n",
    "        PREFIX rdfs: <http://www.w3.org/2000/01/rdf-schema#>\n",
    "\n",
    "        SELECT ?first_name ?last_name ?y\n",
    "        WHERE {\n",
    "          ?x social:posts ?y.\n",
    "          ?x a social:Person.\n",
    "          ?x social:First_name ?first_name.\n",
    "          ?x social:Last_name ?last_name.\n",
    "\n",
    "        }\n",
    "    \"\"\"\n",
    ")\n",
    "\n",
    "data = sparql.query().bindings\n",
    "\n",
    "for x in data:\n",
    "    print(x['first_name'].value + ' ' +x['last_name'].value + ' posted: ' +x['y'].value)"
   ]
  }
 ],
 "metadata": {
  "kernelspec": {
   "display_name": "Python 3 (ipykernel)",
   "language": "python",
   "name": "python3"
  },
  "language_info": {
   "codemirror_mode": {
    "name": "ipython",
    "version": 3
   },
   "file_extension": ".py",
   "mimetype": "text/x-python",
   "name": "python",
   "nbconvert_exporter": "python",
   "pygments_lexer": "ipython3",
   "version": "3.11.5"
  }
 },
 "nbformat": 4,
 "nbformat_minor": 5
}
